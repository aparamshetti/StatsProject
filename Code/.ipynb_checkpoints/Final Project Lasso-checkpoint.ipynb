{
 "cells": [
  {
   "cell_type": "code",
   "execution_count": 15,
   "metadata": {
    "scrolled": false
   },
   "outputs": [
    {
     "name": "stderr",
     "output_type": "stream",
     "text": [
      "c:\\python36\\lib\\site-packages\\IPython\\core\\interactiveshell.py:3020: DtypeWarning: Columns (1) have mixed types. Specify dtype option on import or set low_memory=False.\n",
      "  interactivity=interactivity, compiler=compiler, result=result)\n"
     ]
    }
   ],
   "source": [
    "import numpy as np\n",
    "import pandas as pd\n",
    "import math\n",
    "from sklearn.model_selection import KFold, cross_val_score\n",
    "from sklearn.model_selection import cross_val_score\n",
    "from sklearn.linear_model import LassoCV, MultiTaskLassoCV\n",
    "from sklearn.linear_model import LassoLarsCV\n",
    "from sklearn.model_selection import train_test_split\n",
    "from sklearn.metrics import mean_squared_error\n",
    "\n",
    "import os\n",
    "os.chdir('C:\\\\Users\\\\enewm\\\\Documents\\\\MA 510\\\\data')\n",
    "\n",
    "#Read Train Data \n",
    "df = pd.read_csv(\"cleaned_train.csv\")\n",
    "df = df.drop(columns = ['Unnamed: 0'])\n",
    "#PCA dimension reduced files\n",
    "X_train = pd.read_pickle(\"X_train_pca.npk\")\n",
    "X_test = pd.read_pickle(\"X_test_pca.npk\")\n",
    "\n",
    "#keeps the totalRansactionRevenue, class_pred = 0 if didnt buy anythin and 1 if did\n",
    "y_test = pd.read_pickle(\"y_test.pkl\")\n",
    "y_train = pd.read_pickle(\"y_train.pkl\")"
   ]
  },
  {
   "cell_type": "code",
   "execution_count": 16,
   "metadata": {},
   "outputs": [],
   "source": [
    "#Remove all rows where totals.transactionRevenue=0 for original data\n",
    "df = df[df['totals.transactionRevenue'] != 0]"
   ]
  },
  {
   "cell_type": "code",
   "execution_count": 17,
   "metadata": {},
   "outputs": [],
   "source": [
    "#Separate into predictors and response for original data\n",
    "y_original =df['totals.transactionRevenue']\n",
    "x_original=df.drop('totals.transactionRevenue',axis=1)"
   ]
  },
  {
   "cell_type": "code",
   "execution_count": 18,
   "metadata": {},
   "outputs": [],
   "source": [
    "#Split original data into test and training\n",
    "x_train_orig, x_test_orig , y_train_orig, y_test_orig = train_test_split(x_original, y_original, test_size=0.2, random_state=1)"
   ]
  },
  {
   "cell_type": "code",
   "execution_count": 19,
   "metadata": {},
   "outputs": [],
   "source": [
    "#Remove entries with 0 revenue for PCA Data training set \n",
    "X_train=X_train[y_train ['totals.transactionRevenue']!=0]\n",
    "y_train = y_train[y_train['totals.transactionRevenue'] != 0]\n"
   ]
  },
  {
   "cell_type": "code",
   "execution_count": 20,
   "metadata": {},
   "outputs": [],
   "source": [
    "#Remove entries with 0 revenue for PCA\n",
    "X_test=X_test[y_test['totals.transactionRevenue']!=0]\n",
    "y_test=y_test[y_test['totals.transactionRevenue']!=0]"
   ]
  },
  {
   "cell_type": "code",
   "execution_count": 21,
   "metadata": {},
   "outputs": [],
   "source": [
    "#Remove any additional columns\n",
    "y_train_rev=y_train['totals.transactionRevenue']\n",
    "y_test_rev=y_test['totals.transactionRevenue']"
   ]
  },
  {
   "cell_type": "code",
   "execution_count": 22,
   "metadata": {},
   "outputs": [],
   "source": [
    "#Split training set into testing and training set for PCA training set\n",
    "#Divide PCA Testing set into Training and Test Set\n",
    "x_train2, x_test2 , y_train2, y_test2= train_test_split(X_train,y_train_rev,test_size=0.2, random_state=7)"
   ]
  },
  {
   "cell_type": "code",
   "execution_count": 23,
   "metadata": {},
   "outputs": [],
   "source": [
    "lasso_orig=LassoCV(cv=10)\n"
   ]
  },
  {
   "cell_type": "code",
   "execution_count": 24,
   "metadata": {
    "scrolled": true
   },
   "outputs": [
    {
     "data": {
      "text/plain": [
       "LassoCV(alphas=None, copy_X=True, cv=10, eps=0.001, fit_intercept=True,\n",
       "    max_iter=1000, n_alphas=100, n_jobs=None, normalize=False,\n",
       "    positive=False, precompute='auto', random_state=None,\n",
       "    selection='cyclic', tol=0.0001, verbose=False)"
      ]
     },
     "execution_count": 24,
     "metadata": {},
     "output_type": "execute_result"
    }
   ],
   "source": [
    "lasso_orig.fit(x_train_orig,y_train_orig)\n"
   ]
  },
  {
   "cell_type": "code",
   "execution_count": 25,
   "metadata": {},
   "outputs": [
    {
     "data": {
      "text/plain": [
       "591186304.9057618"
      ]
     },
     "execution_count": 25,
     "metadata": {},
     "output_type": "execute_result"
    }
   ],
   "source": [
    "#Testing Error\n",
    "mse=mean_squared_error(y_test_orig, lasso_orig.predict(x_test_orig))\n",
    "rmse=math.sqrt(mse)\n",
    "rmse\n"
   ]
  },
  {
   "cell_type": "code",
   "execution_count": 28,
   "metadata": {},
   "outputs": [],
   "source": [
    "lasso_PCA=LassoCV(cv=10)"
   ]
  },
  {
   "cell_type": "code",
   "execution_count": 29,
   "metadata": {
    "scrolled": false
   },
   "outputs": [
    {
     "data": {
      "text/plain": [
       "LassoCV(alphas=None, copy_X=True, cv=10, eps=0.001, fit_intercept=True,\n",
       "    max_iter=1000, n_alphas=100, n_jobs=None, normalize=False,\n",
       "    positive=False, precompute='auto', random_state=None,\n",
       "    selection='cyclic', tol=0.0001, verbose=False)"
      ]
     },
     "execution_count": 29,
     "metadata": {},
     "output_type": "execute_result"
    }
   ],
   "source": [
    "lasso_PCA.fit(x_train2,y_train2)"
   ]
  },
  {
   "cell_type": "code",
   "execution_count": 33,
   "metadata": {},
   "outputs": [
    {
     "data": {
      "text/plain": [
       "270423084.063669"
      ]
     },
     "execution_count": 33,
     "metadata": {},
     "output_type": "execute_result"
    }
   ],
   "source": [
    "#Compute test MSE for Lasso)\n",
    "mse=mean_squared_error(y_test2, lasso_PCA.predict(x_test2))\n",
    "rmse=math.sqrt(mse)\n",
    "rmse"
   ]
  },
  {
   "cell_type": "code",
   "execution_count": 36,
   "metadata": {},
   "outputs": [
    {
     "data": {
      "text/plain": [
       "363929609.00805044"
      ]
     },
     "execution_count": 36,
     "metadata": {},
     "output_type": "execute_result"
    }
   ],
   "source": [
    "#Test on original unused test set (PCA)\n",
    "mse=mean_squared_error(y_test_rev, lasso_PCA.predict(X_test))\n",
    "rmse=math.sqrt(mse)\n",
    "rmse\n"
   ]
  },
  {
   "cell_type": "code",
   "execution_count": 48,
   "metadata": {},
   "outputs": [],
   "source": [
    "#Try data transformation\n",
    "#Separate into predictors and response for original data\n",
    "y_original =df['totals.transactionRevenue']\n",
    "x_original=df.drop('totals.transactionRevenue',axis=1)\n",
    "\n",
    "#Log transform\n",
    "y_trans=np.log(y_original)"
   ]
  },
  {
   "cell_type": "code",
   "execution_count": 45,
   "metadata": {},
   "outputs": [],
   "source": [
    "#Divide transformed data set into a test and training set\n",
    "x_train_tran, x_test_tran, y_train_tran, y_test_tran= train_test_split(x_original,y_trans,test_size=0.2, random_state=9)"
   ]
  },
  {
   "cell_type": "code",
   "execution_count": 49,
   "metadata": {},
   "outputs": [
    {
     "data": {
      "text/plain": [
       "LassoCV(alphas=None, copy_X=True, cv=10, eps=0.001, fit_intercept=True,\n",
       "    max_iter=1000, n_alphas=100, n_jobs=None, normalize=False,\n",
       "    positive=False, precompute='auto', random_state=None,\n",
       "    selection='cyclic', tol=0.0001, verbose=False)"
      ]
     },
     "execution_count": 49,
     "metadata": {},
     "output_type": "execute_result"
    }
   ],
   "source": [
    "#Train the model on original \n",
    "lasso_orig_trans=LassoCV(cv=10)\n",
    "lasso_orig_trans.fit(x_train_tran,y_train_tran)\n"
   ]
  },
  {
   "cell_type": "code",
   "execution_count": 54,
   "metadata": {},
   "outputs": [
    {
     "data": {
      "text/plain": [
       "1.2172663054594663"
      ]
     },
     "execution_count": 54,
     "metadata": {},
     "output_type": "execute_result"
    }
   ],
   "source": [
    "#Compute test MSE and RMSE\n",
    "mse_tran=mean_squared_error(y_test_tran, lasso_orig_trans.predict(x_test_tran))\n",
    "rmse_tran=math.sqrt(mse_tran)\n",
    "rmse_tran"
   ]
  },
  {
   "cell_type": "code",
   "execution_count": 60,
   "metadata": {},
   "outputs": [],
   "source": [
    "#Fit transformed data to the PCA data\n",
    "#PCA dimension reduced files\n",
    "\n",
    "X_train=X_train[y_train ['totals.transactionRevenue']!=0]\n",
    "y_train = y_train[y_train['totals.transactionRevenue'] != 0]\n",
    "#Remove entries with 0 revenue for PCA\n",
    "X_test=X_test[y_test['totals.transactionRevenue']!=0]\n",
    "y_test=y_test[y_test['totals.transactionRevenue']!=0]\n",
    "#Remove any additional columns\n",
    "y_train_rev=y_train['totals.transactionRevenue']\n",
    "y_test_rev=y_test['totals.transactionRevenue']\n",
    "\n",
    "#Take log of response data sets\n",
    "y_train_log=np.log(y_train_rev)\n",
    "y_test_rev_log=np.log(y_test_rev)\n",
    "\n"
   ]
  },
  {
   "cell_type": "code",
   "execution_count": 63,
   "metadata": {},
   "outputs": [],
   "source": [
    "#Divide transformed data set into a test and training set\n",
    "x_train_pca_tran, x_test_pca_tran, y_train_pca_tran, y_test_pca_tran= train_test_split(X_train,y_train_log,test_size=0.2, random_state=8)"
   ]
  },
  {
   "cell_type": "code",
   "execution_count": 64,
   "metadata": {},
   "outputs": [
    {
     "data": {
      "text/plain": [
       "LassoCV(alphas=None, copy_X=True, cv=10, eps=0.001, fit_intercept=True,\n",
       "    max_iter=1000, n_alphas=100, n_jobs=None, normalize=False,\n",
       "    positive=False, precompute='auto', random_state=None,\n",
       "    selection='cyclic', tol=0.0001, verbose=False)"
      ]
     },
     "execution_count": 64,
     "metadata": {},
     "output_type": "execute_result"
    }
   ],
   "source": [
    "#Fit the PCA transformed data\n",
    "lasso_pca_trans=LassoCV(cv=10)\n",
    "lasso_pca_trans.fit(x_train_pca_tran,y_train_pca_tran)\n"
   ]
  },
  {
   "cell_type": "code",
   "execution_count": 65,
   "metadata": {},
   "outputs": [
    {
     "data": {
      "text/plain": [
       "1.2172663054594663"
      ]
     },
     "execution_count": 65,
     "metadata": {},
     "output_type": "execute_result"
    }
   ],
   "source": [
    "#Compute MSE and RMSE\n",
    "mse_pca_tran=mean_squared_error(y_test_pca_tran, lasso_pca_trans.predict(x_test_pca_tran))\n",
    "rmse_tran=math.sqrt(mse_tran)\n",
    "rmse_tran"
   ]
  },
  {
   "cell_type": "code",
   "execution_count": 66,
   "metadata": {},
   "outputs": [
    {
     "data": {
      "text/plain": [
       "1.2172663054594663"
      ]
     },
     "execution_count": 66,
     "metadata": {},
     "output_type": "execute_result"
    }
   ],
   "source": [
    "#Test on unused PCA testing set\n",
    "mse_pca_tran2=mean_squared_error(y_test_rev_log, lasso_pca_trans.predict(X_test))\n",
    "rmse_pca_tran2=math.sqrt(mse_pca_tran2)\n",
    "rmse_tran"
   ]
  },
  {
   "cell_type": "code",
   "execution_count": null,
   "metadata": {},
   "outputs": [],
   "source": []
  }
 ],
 "metadata": {
  "kernelspec": {
   "display_name": "Python 3",
   "language": "python",
   "name": "python3"
  },
  "language_info": {
   "codemirror_mode": {
    "name": "ipython",
    "version": 3
   },
   "file_extension": ".py",
   "mimetype": "text/x-python",
   "name": "python",
   "nbconvert_exporter": "python",
   "pygments_lexer": "ipython3",
   "version": "3.7.0"
  }
 },
 "nbformat": 4,
 "nbformat_minor": 2
}
