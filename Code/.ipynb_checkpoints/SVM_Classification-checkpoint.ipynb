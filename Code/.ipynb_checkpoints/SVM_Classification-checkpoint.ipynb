{
 "cells": [
  {
   "cell_type": "code",
   "execution_count": 1,
   "metadata": {},
   "outputs": [],
   "source": [
    "import pandas as pd\n",
    "import numpy as np\n",
    "from sklearn import svm\n",
    "from sklearn.model_selection import GridSearchCV\n"
   ]
  },
  {
   "cell_type": "code",
   "execution_count": 3,
   "metadata": {},
   "outputs": [],
   "source": [
    "#PCA dimension reduced files\n",
    "X_train = pd.read_pickle(\"../X_train_pca.npk\")\n",
    "X_test = pd.read_pickle(\"../X_test_pca.npk\")\n",
    "\n",
    "#keeps the totalRansactionRevenue, class_pred = 0 if didnt buy anythin and 1 if did\n",
    "y_test = pd.read_pickle(\"../y_test.pkl\")\n",
    "y_train = pd.read_pickle(\"../y_train.pkl\")"
   ]
  },
  {
   "cell_type": "code",
   "execution_count": 7,
   "metadata": {},
   "outputs": [
    {
     "data": {
      "text/plain": [
       "0    758465\n",
       "1      8406\n",
       "Name: class_pred, dtype: int64"
      ]
     },
     "execution_count": 7,
     "metadata": {},
     "output_type": "execute_result"
    }
   ],
   "source": [
    "y_train.head(5)\n",
    "\n",
    "y_train1 = y_train['class_pred'].astype(int)\n",
    "y_train1.value_counts()"
   ]
  },
  {
   "cell_type": "code",
   "execution_count": null,
   "metadata": {},
   "outputs": [],
   "source": [
    "# Cross validation param search for SVM\n",
    "param_grid = [\n",
    "  {'C': [1, 10, 100, 1000], 'kernel': ['linear','poly']},\n",
    "  {'C': [1, 10, 100, 1000], 'gamma': [0.001, 0.0001], 'kernel': ['rbf']},\n",
    " ]\n",
    "\n",
    "svc = svm.SVC()\n",
    "clf = GridSearchCV(svc, param_grid, cv=5)\n",
    "clf.fit(X_train,y_train1)\n",
    "best_grid = grid_search.best_estimator_\n",
    "best_grid.predict(X_test)"
   ]
  }
 ],
 "metadata": {
  "kernelspec": {
   "display_name": "Python 3",
   "language": "python",
   "name": "python3"
  },
  "language_info": {
   "codemirror_mode": {
    "name": "ipython",
    "version": 3
   },
   "file_extension": ".py",
   "mimetype": "text/x-python",
   "name": "python",
   "nbconvert_exporter": "python",
   "pygments_lexer": "ipython3",
   "version": "3.7.0"
  }
 },
 "nbformat": 4,
 "nbformat_minor": 2
}
