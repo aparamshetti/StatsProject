{
 "cells": [
  {
   "cell_type": "code",
   "execution_count": 6,
   "metadata": {
    "scrolled": true
   },
   "outputs": [
    {
     "name": "stderr",
     "output_type": "stream",
     "text": [
      "c:\\users\\anh\\appdata\\local\\programs\\python\\python37\\lib\\site-packages\\IPython\\core\\interactiveshell.py:3020: DtypeWarning: Columns (1) have mixed types. Specify dtype option on import or set low_memory=False.\n",
      "  interactivity=interactivity, compiler=compiler, result=result)\n"
     ]
    }
   ],
   "source": [
    "import numpy as np\n",
    "import pandas as pd\n",
    "import math\n",
    "import matplotlib.pyplot as plt \n",
    "%matplotlib inline\n",
    "\n",
    "from sklearn.model_selection import KFold, cross_val_score\n",
    "from sklearn.model_selection import cross_val_score\n",
    "from sklearn.model_selection import train_test_split\n",
    "from sklearn.metrics import mean_squared_error\n"
   ]
  },
  {
   "cell_type": "markdown",
   "metadata": {},
   "source": [
    "# Load prepocessed data"
   ]
  },
  {
   "cell_type": "code",
   "execution_count": 28,
   "metadata": {},
   "outputs": [
    {
     "name": "stderr",
     "output_type": "stream",
     "text": [
      "c:\\users\\anh\\appdata\\local\\programs\\python\\python37\\lib\\site-packages\\IPython\\core\\interactiveshell.py:3020: DtypeWarning: Columns (1) have mixed types. Specify dtype option on import or set low_memory=False.\n",
      "  interactivity=interactivity, compiler=compiler, result=result)\n"
     ]
    }
   ],
   "source": [
    "#Read Train Data \n",
    "df = pd.read_csv(\"../cleaned_train.csv\")\n",
    "df = df.drop(columns = ['Unnamed: 0'])\n",
    "#PCA dimension reduced files\n",
    "X_train = pd.read_pickle(\"../X_train_pca.npk\")\n",
    "X_test = pd.read_pickle(\"../X_test_pca.npk\")\n",
    "\n",
    "#keeps the totalRansactionRevenue, class_pred = 0 if didnt buy anythin and 1 if did\n",
    "y_test = pd.read_pickle(\"../y_test.pkl\")\n",
    "y_train = pd.read_pickle(\"../y_train.pkl\")\n",
    "\n",
    "#Remove all rows where totals.transactionRevenue=0 for original data\n",
    "df = df[df['totals.transactionRevenue'] != 0]\n",
    "\n",
    "#Separate into predictors and response for original data\n",
    "y_original =df['totals.transactionRevenue']\n",
    "x_original=df.drop('totals.transactionRevenue',axis=1)\n",
    "\n",
    "#Split original data into test and training\n",
    "x_train_orig, x_test_orig , y_train_orig, y_test_orig = train_test_split(x_original, y_original, test_size=0.2, random_state=1)\n"
   ]
  },
  {
   "cell_type": "code",
   "execution_count": 29,
   "metadata": {},
   "outputs": [],
   "source": [
    "#Remove entries with 0 revenue for PCA Data training set \n",
    "X_train=X_train[y_train ['totals.transactionRevenue']!=0]\n",
    "y_train = y_train[y_train['totals.transactionRevenue'] != 0]\n",
    "\n",
    "#Remove entries with 0 revenue for PCA\n",
    "X_test=X_test[y_test['totals.transactionRevenue']!=0]\n",
    "y_test=y_test[y_test['totals.transactionRevenue']!=0]\n",
    "\n",
    "#Remove any additional columns\n",
    "y_train_rev=y_train['totals.transactionRevenue']\n",
    "y_test_rev=y_test['totals.transactionRevenue']\n",
    "\n",
    "#Split training set into testing and training set for PCA training set\n",
    "#Divide PCA Testing set into Training and Test Set\n",
    "x_train2, x_test2 , y_train2, y_test2= train_test_split(X_train,y_train_rev,test_size=0.2, random_state=7)"
   ]
  },
  {
   "cell_type": "markdown",
   "metadata": {},
   "source": [
    "# Models"
   ]
  },
  {
   "cell_type": "code",
   "execution_count": 33,
   "metadata": {},
   "outputs": [],
   "source": [
    "from sklearn.linear_model import LinearRegression\n",
    "\n",
    "# Fitting linear regression model on original data\n",
    "model_lin = LinearRegression()\n",
    "model_lin.fit(x_train_orig,y_train_orig)\n",
    "# Test set\n",
    "pred = model_lin.predict(x_test_orig)\n"
   ]
  },
  {
   "cell_type": "code",
   "execution_count": 34,
   "metadata": {},
   "outputs": [],
   "source": [
    "# Fitting linear regression model on PCA-ed data\n",
    "model_pca_lin = LinearRegression()\n",
    "model_pca_lin.fit(x_train2,y_train2)\n",
    "# Test set\n",
    "pred_pca_lin = model_pca_lin.predict(x_test2)"
   ]
  },
  {
   "cell_type": "code",
   "execution_count": 35,
   "metadata": {},
   "outputs": [
    {
     "data": {
      "text/plain": [
       "271120012.5028573"
      ]
     },
     "execution_count": 35,
     "metadata": {},
     "output_type": "execute_result"
    }
   ],
   "source": [
    "#Testing Error\n",
    "mse_orig=mean_squared_error(y_test_orig, pred)\n",
    "rmse_orig=math.sqrt(mse_orig)\n",
    "rmse_orig\n",
    "\n",
    "mse_pca=mean_squared_error(y_test2, pred_pca_lin)\n",
    "rmse_pca=math.sqrt(mse_pca)\n",
    "rmse_pca"
   ]
  },
  {
   "cell_type": "code",
   "execution_count": 40,
   "metadata": {},
   "outputs": [
    {
     "ename": "ModuleNotFoundError",
     "evalue": "No module named 'pyearth'",
     "output_type": "error",
     "traceback": [
      "\u001b[1;31m---------------------------------------------------------------------------\u001b[0m",
      "\u001b[1;31mModuleNotFoundError\u001b[0m                       Traceback (most recent call last)",
      "\u001b[1;32m<ipython-input-40-49d288f32622>\u001b[0m in \u001b[0;36m<module>\u001b[1;34m\u001b[0m\n\u001b[1;32m----> 1\u001b[1;33m \u001b[1;32mfrom\u001b[0m \u001b[0mpyearth\u001b[0m \u001b[1;32mimport\u001b[0m \u001b[0mEarth\u001b[0m\u001b[1;33m\u001b[0m\u001b[0m\n\u001b[0m\u001b[0;32m      2\u001b[0m \u001b[0mmodel\u001b[0m \u001b[1;33m=\u001b[0m \u001b[0mEarth\u001b[0m\u001b[1;33m(\u001b[0m\u001b[1;33m)\u001b[0m\u001b[1;33m\u001b[0m\u001b[0m\n\u001b[0;32m      3\u001b[0m \u001b[0mmodel\u001b[0m\u001b[1;33m.\u001b[0m\u001b[0mfit\u001b[0m\u001b[1;33m(\u001b[0m\u001b[0mx_train2\u001b[0m\u001b[1;33m,\u001b[0m\u001b[0my_train2\u001b[0m\u001b[1;33m)\u001b[0m\u001b[1;33m\u001b[0m\u001b[0m\n\u001b[0;32m      4\u001b[0m \u001b[1;33m\u001b[0m\u001b[0m\n\u001b[0;32m      5\u001b[0m \u001b[1;31m#Print the model\u001b[0m\u001b[1;33m\u001b[0m\u001b[1;33m\u001b[0m\u001b[0m\n",
      "\u001b[1;31mModuleNotFoundError\u001b[0m: No module named 'pyearth'"
     ]
    }
   ],
   "source": [
    "from pyearth import Earth\n",
    "model = Earth()\n",
    "model.fit(x_train2,y_train2)\n",
    "\n",
    "#Print the model\n",
    "print(model.trace())\n",
    "print(model.summary())\n",
    "\n",
    "#Plot the model\n",
    "y_hat = model.predict(x_test2)\n",
    "pyplot.figure()\n",
    "pyplot.plot(X[:,6],y_test2,'r.')\n",
    "pyplot.plot(X[:,6],y_hat,'b.')\n",
    "pyplot.xlabel('x_6')\n",
    "pyplot.ylabel('y')\n",
    "pyplot.title('Simple Earth Example')\n",
    "pyplot.show()"
   ]
  },
  {
   "cell_type": "code",
   "execution_count": 41,
   "metadata": {},
   "outputs": [],
   "source": [
    "#Try data transformation\n",
    "\n",
    "#Log transform\n",
    "y_trans=np.log(y_original)"
   ]
  },
  {
   "cell_type": "code",
   "execution_count": 42,
   "metadata": {},
   "outputs": [],
   "source": [
    "#Divide transformed data set into a test and training set\n",
    "x_train_tran, x_test_tran, y_train_tran, y_test_tran= train_test_split(x_original,y_trans,test_size=0.2, random_state=9)"
   ]
  },
  {
   "cell_type": "code",
   "execution_count": 43,
   "metadata": {},
   "outputs": [
    {
     "data": {
      "text/plain": [
       "LinearRegression(copy_X=True, fit_intercept=True, n_jobs=1, normalize=False)"
      ]
     },
     "execution_count": 43,
     "metadata": {},
     "output_type": "execute_result"
    }
   ],
   "source": [
    "#Train the model on original \n",
    "model_lin_trans = LinearRegression()\n",
    "model_lin_trans.fit(x_train_tran,y_train_tran)\n"
   ]
  },
  {
   "cell_type": "code",
   "execution_count": 44,
   "metadata": {},
   "outputs": [
    {
     "data": {
      "text/plain": [
       "1.2172685457459187"
      ]
     },
     "execution_count": 44,
     "metadata": {},
     "output_type": "execute_result"
    }
   ],
   "source": [
    "#Compute test MSE and RMSE\n",
    "mse_tran=mean_squared_error(y_test_tran, model_lin_trans.predict(x_test_tran))\n",
    "rmse_tran=math.sqrt(mse_tran)\n",
    "rmse_tran"
   ]
  },
  {
   "cell_type": "code",
   "execution_count": 45,
   "metadata": {},
   "outputs": [],
   "source": [
    "#Take log of response data sets\n",
    "y_train_log=np.log(y_train_rev)\n",
    "y_test_rev_log=np.log(y_test_rev)\n",
    "\n"
   ]
  },
  {
   "cell_type": "code",
   "execution_count": 46,
   "metadata": {},
   "outputs": [],
   "source": [
    "#Divide transformed data set into a test and training set\n",
    "x_train_pca_tran, x_test_pca_tran, y_train_pca_tran, y_test_pca_tran= train_test_split(X_train,y_train_log,test_size=0.2, random_state=8)"
   ]
  },
  {
   "cell_type": "code",
   "execution_count": 52,
   "metadata": {},
   "outputs": [
    {
     "data": {
      "text/plain": [
       "LinearRegression(copy_X=True, fit_intercept=True, n_jobs=1, normalize=False)"
      ]
     },
     "execution_count": 52,
     "metadata": {},
     "output_type": "execute_result"
    }
   ],
   "source": [
    "#Fit the PCA transformed data\n",
    "lin_pca_trans = LinearRegression()\n",
    "lin_pca_trans.fit(x_train_pca_tran,y_train_pca_tran)\n"
   ]
  },
  {
   "cell_type": "code",
   "execution_count": 53,
   "metadata": {},
   "outputs": [
    {
     "data": {
      "text/plain": [
       "1.2172685457459187"
      ]
     },
     "execution_count": 53,
     "metadata": {},
     "output_type": "execute_result"
    }
   ],
   "source": [
    "#Compute MSE and RMSE\n",
    "mse_pca_tran=mean_squared_error(y_test_pca_tran, lin_pca_trans.predict(x_test_pca_tran))\n",
    "rmse_tran=math.sqrt(mse_tran)\n",
    "rmse_tran"
   ]
  },
  {
   "cell_type": "markdown",
   "metadata": {
    "scrolled": true
   },
   "source": [
    "# Evaluation"
   ]
  },
  {
   "cell_type": "code",
   "execution_count": null,
   "metadata": {},
   "outputs": [],
   "source": []
  }
 ],
 "metadata": {
  "kernelspec": {
   "display_name": "Python 3",
   "language": "python",
   "name": "python3"
  },
  "language_info": {
   "codemirror_mode": {
    "name": "ipython",
    "version": 3
   },
   "file_extension": ".py",
   "mimetype": "text/x-python",
   "name": "python",
   "nbconvert_exporter": "python",
   "pygments_lexer": "ipython3",
   "version": "3.7.0"
  }
 },
 "nbformat": 4,
 "nbformat_minor": 2
}
