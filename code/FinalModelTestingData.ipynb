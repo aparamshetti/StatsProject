{
 "cells": [
  {
   "cell_type": "code",
   "execution_count": 61,
   "metadata": {},
   "outputs": [
    {
     "data": {
      "text/plain": [
       "<matplotlib.axes._subplots.AxesSubplot at 0x13a932750>"
      ]
     },
     "execution_count": 61,
     "metadata": {},
     "output_type": "execute_result"
    },
    {
     "data": {
      "image/png": "[encoded data removed]",
      "text/plain": [
       "<matplotlib.figure.Figure at 0x13a89ed90>"
      ]
     },
     "metadata": {},
     "output_type": "display_data"
    }
   ],
   "source": [
    "from collections import Counter\n",
    "y_test.head()\n",
    "\n",
    "pred = Counter(y_test[\"class_pred\"])\n",
    "df = pd.DataFrame.from_dict(pred, orient='index')\n",
    "%matplotlib inline\n",
    "df.plot(kind='bar', title = \"Purchase or not Cnt\")"
   ]
  },
  {
   "cell_type": "code",
   "execution_count": 48,
   "metadata": {},
   "outputs": [],
   "source": [
    "import pandas as pd\n",
    "from sklearn.decomposition import PCA\n",
    "from sklearn.model_selection import train_test_split\n",
    "from sklearn.metrics import mean_squared_error\n",
    "from sklearn.ensemble import RandomForestRegressor\n",
    "from sklearn.linear_model import Lasso\n",
    "from sklearn.linear_model import Ridge\n",
    "from sklearn import svm\n",
    "import numpy as np\n",
    "from sklearn.model_selection import cross_val_score\n",
    "from sklearn.ensemble import RandomForestClassifier\n",
    "from sklearn.datasets import make_classification\n",
    "from sklearn.metrics import confusion_matrix\n",
    "from sklearn.metrics import f1_score"
   ]
  },
  {
   "cell_type": "code",
   "execution_count": 22,
   "metadata": {},
   "outputs": [],
   "source": [
    "\n",
    "df_train = pd.read_csv(\"../cleaned_train.csv\")\n",
    "df_test = pd.read_csv(\"cleaned_test.csv\")\n",
    "df_train = df_train.drop(columns = ['Unnamed: 0'])\n",
    "df_test = df_test.drop(columns = ['Unnamed: 0'])"
   ]
  },
  {
   "cell_type": "code",
   "execution_count": 25,
   "metadata": {},
   "outputs": [],
   "source": [
    "y_train = df_train[['class_pred','totals.transactionRevenue','fullVisitorId']]\n",
    "\n",
    "df_train = df_train.drop(columns = ['class_pred','totals.transactionRevenue', 'fullVisitorId'])"
   ]
  },
  {
   "cell_type": "code",
   "execution_count": 27,
   "metadata": {},
   "outputs": [],
   "source": [
    "y_test = df_test[['class_pred','totals.transactionRevenue','fullVisitorId']]\n",
    "\n",
    "\n",
    "df_test = df_test.drop(columns = ['class_pred','totals.transactionRevenue', 'fullVisitorId'])"
   ]
  },
  {
   "cell_type": "code",
   "execution_count": null,
   "metadata": {},
   "outputs": [],
   "source": []
  },
  {
   "cell_type": "markdown",
   "metadata": {},
   "source": [
    "# Fit PCA"
   ]
  },
  {
   "cell_type": "code",
   "execution_count": 30,
   "metadata": {},
   "outputs": [
    {
     "name": "stdout",
     "output_type": "stream",
     "text": [
      "[2315.42228114 1811.01058773 1547.51011668 1317.10404267 1282.70200054\n",
      "  827.66642827  810.08137172  781.24518271  737.78858198  667.37487103\n",
      "  663.02777019  638.41696576  601.43460109  574.38798204  563.26687174\n",
      "  547.08143274  539.04099311  527.08332953  482.72372859  462.15182241\n",
      "  388.91288237]\n"
     ]
    }
   ],
   "source": [
    "#PCA keeping 95% of variance\n",
    "pca = PCA(.95)\n",
    "\n",
    "pca.fit(df_train)\n",
    "X_train_pca = pca.transform(df_train)\n",
    "X_test_pca = pca.transform(df_test)\n",
    "print(pca.singular_values_)  \n",
    "\n"
   ]
  },
  {
   "cell_type": "code",
   "execution_count": null,
   "metadata": {},
   "outputs": [],
   "source": []
  },
  {
   "cell_type": "markdown",
   "metadata": {},
   "source": [
    "# Fit Random Forest"
   ]
  },
  {
   "cell_type": "code",
   "execution_count": null,
   "metadata": {},
   "outputs": [],
   "source": []
  },
  {
   "cell_type": "code",
   "execution_count": null,
   "metadata": {},
   "outputs": [],
   "source": []
  },
  {
   "cell_type": "code",
   "execution_count": null,
   "metadata": {},
   "outputs": [],
   "source": []
  },
  {
   "cell_type": "code",
   "execution_count": 31,
   "metadata": {},
   "outputs": [
    {
     "name": "stdout",
     "output_type": "stream",
     "text": [
      "('Confusion matrix PCA: ', array([[352418,  44577],\n",
      "       [    94,   4500]]))\n",
      "('f1-score PCA: ', 0.16768832330308733)\n"
     ]
    }
   ],
   "source": [
    "rf_pca = RandomForestClassifier(n_estimators=100, min_samples_leaf = .1, random_state=0, class_weight='balanced')\n",
    "# print(cross_val_score(rf_pca, X_train_pca, y_train_class, cv=3))\n",
    "\n",
    "rf_pca.fit(X_train_pca, y_train['class_pred'])\n",
    "y_pred_pca = rf_pca.predict(X_test_pca)\n",
    "\n",
    "\n",
    "print(\"Confusion matrix PCA: \", confusion_matrix(y_test['class_pred'], y_pred_pca))\n",
    "print(\"f1-score PCA: \", f1_score(y_test['class_pred'], y_pred_pca))"
   ]
  },
  {
   "cell_type": "code",
   "execution_count": null,
   "metadata": {},
   "outputs": [],
   "source": []
  },
  {
   "cell_type": "markdown",
   "metadata": {},
   "source": [
    "# Fit Lasso/Ridge/RF regression ensemble"
   ]
  },
  {
   "cell_type": "code",
   "execution_count": 28,
   "metadata": {},
   "outputs": [],
   "source": [
    "# X_Reg = X_test[y_pred_pca ==1]\n",
    "# y_Reg = y_test[y_pred_pca == 1]\n",
    "\n",
    "# X_train_reg, X_test_reg, y_train_reg, y_test_reg = train_test_split(X_Reg, y_Reg, test_size=0.33, shuffle = False)"
   ]
  },
  {
   "cell_type": "code",
   "execution_count": 33,
   "metadata": {},
   "outputs": [],
   "source": [
    "#or train on same training as classification\n",
    "X_train_reg = df_train[y_train['class_pred']==1]\n",
    "y_train_reg = y_train[y_train['class_pred']==1]\n",
    "\n",
    "X_test_reg = df_test[y_pred_pca ==1]\n",
    "y_test_reg = y_test[y_pred_pca == 1]"
   ]
  },
  {
   "cell_type": "code",
   "execution_count": 35,
   "metadata": {},
   "outputs": [
    {
     "name": "stderr",
     "output_type": "stream",
     "text": [
      "/Users/cassidylitch/anaconda/lib/python2.7/site-packages/sklearn/svm/base.py:196: FutureWarning: The default value of gamma will change from 'auto' to 'scale' in version 0.22 to account better for unscaled features. Set gamma explicitly to 'auto' or 'scale' to avoid this warning.\n",
      "  \"avoid this warning.\", FutureWarning)\n"
     ]
    }
   ],
   "source": [
    "rf = RandomForestRegressor(n_estimators = 100, max_features = 'log2', min_samples_leaf= 0.001) \n",
    "# ridge = Ridge(alpha = .202)\n",
    "# lasso = Lasso(alpha = 1e-15)\n",
    "svr = svm.SVR(C= 10000.0, degree = 3, kernel = 'poly')\n",
    "\n",
    "rf.fit(X_train_reg, y_train_reg['totals.transactionRevenue'])\n",
    "# ridge.fit(X_train_reg, y_train_reg['totals.transactionRevenue'])\n",
    "# lasso.fit(X_train_reg, y_train_reg['totals.transactionRevenue'])\n",
    "svr.fit(X_train_reg, y_train_reg['totals.transactionRevenue'])\n",
    "\n",
    "\n",
    "rf_pred = rf.predict(X_test_reg)\n",
    "# ridge_pred = ridge.predict(X_test_reg)\n",
    "# lasso_pred = lasso.predict(X_test_reg)\n",
    "svr_pred = svr.predict(X_test_reg)\n",
    "\n",
    "\n"
   ]
  },
  {
   "cell_type": "code",
   "execution_count": 36,
   "metadata": {},
   "outputs": [],
   "source": [
    "# pred_all = pd.DataFrame({\"random_forest\": rf_pred, \"ridge\": ridge_pred, \"lasso\": lasso_pred, \"svr\": svr_pred}).mean(axis=1)\n",
    "pred_rf_svr = pd.DataFrame({\"random_forest\": rf_pred, \"svr\": svr_pred}).mean(axis=1)\n",
    "# pred_rf_svr_lass = pd.DataFrame({\"random_forest\": rf_pred, \"svr\": svr_pred, \"lasso\": lasso_pred}).mean(axis=1)"
   ]
  },
  {
   "cell_type": "code",
   "execution_count": 38,
   "metadata": {},
   "outputs": [
    {
     "name": "stdout",
     "output_type": "stream",
     "text": [
      "('RF/SVR: root mean squared error', 179530051.42460448)\n"
     ]
    }
   ],
   "source": [
    "import math\n",
    "# mse_all=mean_squared_error(y_test_reg['totals.transactionRevenue'], pred_all)\n",
    "# rmse_all=math.sqrt(mse_all)\n",
    "# print(\"All: root mean squared error\", rmse_all)\n",
    "\n",
    "mse_rf_svr=mean_squared_error(y_test_reg['totals.transactionRevenue'], pred_rf_svr)\n",
    "rmse_rf_svr=math.sqrt(mse_rf_svr)\n",
    "print(\"RF/SVR: root mean squared error\", rmse_rf_svr)\n",
    "\n",
    "\n",
    "# mse_rf_svr_lass=mean_squared_error(y_test_reg['totals.transactionRevenue'], pred_rf_svr_lass)\n",
    "# rmse_rf_svr_lass=math.sqrt(mse_rf_svr_lass)\n",
    "# print(\"RF/SVR/Lasso: root mean squared error\", rmse_rf_svr_lass)\n",
    "\n",
    "\n",
    "# mse_rf=mean_squared_error(y_test_reg['totals.transactionRevenue'], rf_pred)\n",
    "# rmse_rf=math.sqrt(mse_rf)\n",
    "# print(\"RF: root mean squared error\", rmse_rf)\n",
    "\n",
    "# mse_ridge=mean_squared_error(y_test_reg['totals.transactionRevenue'], ridge_pred)\n",
    "# rmse_ridge=math.sqrt(mse_ridge)\n",
    "# print(\"Ridge: root mean squared error\", rmse_ridge)\n",
    "\n",
    "# mse_lasso=mean_squared_error(y_test_reg['totals.transactionRevenue'], lasso_pred)\n",
    "# rmse_lasso=math.sqrt(mse_lasso)\n",
    "# print(\"Lasso:root mean squared error\", rmse_lasso)\n",
    "\n",
    "# mse_svr=mean_squared_error(y_test_reg['totals.transactionRevenue'], svr_pred)\n",
    "# rmse_svr=math.sqrt(mse_svr)\n",
    "# print(\"svr:root mean squared error\", rmse_svr)"
   ]
  },
  {
   "cell_type": "code",
   "execution_count": 113,
   "metadata": {},
   "outputs": [
    {
     "data": {
      "text/plain": [
       "array([1.37889051e+08, 1.67847929e+08, 2.81691105e+08, 3.39250199e+08,\n",
       "       4.01394158e+08])"
      ]
     },
     "execution_count": 113,
     "metadata": {},
     "output_type": "execute_result"
    }
   ],
   "source": [
    "# import numpy as np\n",
    "# np.sort([rmse_comb, rmse_rf, rmse_ridge, rmse_lasso, rmse_svr])"
   ]
  },
  {
   "cell_type": "code",
   "execution_count": 39,
   "metadata": {},
   "outputs": [],
   "source": [
    "#Combine results like Kaggle wants\n",
    "\n",
    "#y_test['final_prediction'] = y_pred_pca\n",
    "\n",
    "def addFinalPrediction(classPred, regPred):\n",
    "    total_pred = []\n",
    "    cnt = 0\n",
    "    for x in classPred: \n",
    "        if x == 0:\n",
    "            total_pred.append(x)\n",
    "        else:\n",
    "            total_pred.append(regPred[cnt])\n",
    "            cnt +=1\n",
    "    return total_pred\n",
    "        \n",
    "        \n",
    "        \n",
    "y_test['final_pred'] = addFinalPrediction(y_pred_pca, pred_rf_svr)"
   ]
  },
  {
   "cell_type": "code",
   "execution_count": 43,
   "metadata": {},
   "outputs": [
    {
     "data": {
      "text/plain": [
       "['class_pred', 'totals.transactionRevenue', 'fullVisitorId', 'final_pred']"
      ]
     },
     "execution_count": 43,
     "metadata": {},
     "output_type": "execute_result"
    }
   ],
   "source": [
    "list(y_test)"
   ]
  },
  {
   "cell_type": "code",
   "execution_count": 62,
   "metadata": {},
   "outputs": [
    {
     "name": "stdout",
     "output_type": "stream",
     "text": [
      "('Final prediction per entry: ', 59039153.91496672)\n"
     ]
    }
   ],
   "source": [
    "mse=mean_squared_error(y_test['totals.transactionRevenue'], y_test['final_pred'])\n",
    "# mse=mean_squared_error(y_test['totals.transactionRevenue'], np.zeros(len(y_test)))\n",
    "\n",
    "\n",
    "rmse=math.sqrt(mse)\n",
    "print(\"Final prediction per entry: \", rmse)"
   ]
  },
  {
   "cell_type": "code",
   "execution_count": 64,
   "metadata": {},
   "outputs": [
    {
     "data": {
      "text/plain": [
       "['totals.transactionRevenue',\n",
       " 'class_pred',\n",
       " 'fullVisitorId',\n",
       " 'final_prediction']"
      ]
     },
     "execution_count": 64,
     "metadata": {},
     "output_type": "execute_result"
    }
   ],
   "source": [
    "list(y_test)"
   ]
  },
  {
   "cell_type": "markdown",
   "metadata": {},
   "source": [
    "# Combine by User for Kaggle"
   ]
  },
  {
   "cell_type": "code",
   "execution_count": 45,
   "metadata": {},
   "outputs": [],
   "source": [
    "#group predicted/true values by id number\n",
    "group = y_test.groupby('fullVisitorId')\n",
    "\n",
    "dfpredictions = group.apply(lambda x: x['final_pred'].unique())\n",
    "dftrue = group.apply(lambda x: x['totals.transactionRevenue'].unique())\n",
    "\n",
    "\n"
   ]
  },
  {
   "cell_type": "code",
   "execution_count": 56,
   "metadata": {},
   "outputs": [
    {
     "data": {
      "text/plain": [
       "pandas.core.series.Series"
      ]
     },
     "execution_count": 56,
     "metadata": {},
     "output_type": "execute_result"
    }
   ],
   "source": [
    "type(dfpredictions)"
   ]
  },
  {
   "cell_type": "code",
   "execution_count": 46,
   "metadata": {},
   "outputs": [
    {
     "data": {
      "text/html": [
       "<div>\n",
       "<style scoped>\n",
       "    .dataframe tbody tr th:only-of-type {\n",
       "        vertical-align: middle;\n",
       "    }\n",
       "\n",
       "    .dataframe tbody tr th {\n",
       "        vertical-align: top;\n",
       "    }\n",
       "\n",
       "    .dataframe thead th {\n",
       "        text-align: right;\n",
       "    }\n",
       "</style>\n",
       "<table border=\"1\" class=\"dataframe\">\n",
       "  <thead>\n",
       "    <tr style=\"text-align: right;\">\n",
       "      <th></th>\n",
       "      <th>PredictedLogRevenue</th>\n",
       "      <th>true</th>\n",
       "    </tr>\n",
       "    <tr>\n",
       "      <th>fullVisitorId</th>\n",
       "      <th></th>\n",
       "      <th></th>\n",
       "    </tr>\n",
       "  </thead>\n",
       "  <tbody>\n",
       "    <tr>\n",
       "      <th>1995526696366</th>\n",
       "      <td>[0.0]</td>\n",
       "      <td>[0.0]</td>\n",
       "    </tr>\n",
       "    <tr>\n",
       "      <th>16367580689231</th>\n",
       "      <td>[0.0]</td>\n",
       "      <td>[0.0]</td>\n",
       "    </tr>\n",
       "    <tr>\n",
       "      <th>18966949534117</th>\n",
       "      <td>[0.0]</td>\n",
       "      <td>[0.0]</td>\n",
       "    </tr>\n",
       "    <tr>\n",
       "      <th>24844201502183</th>\n",
       "      <td>[0.0]</td>\n",
       "      <td>[0.0]</td>\n",
       "    </tr>\n",
       "    <tr>\n",
       "      <th>24845665201193</th>\n",
       "      <td>[0.0]</td>\n",
       "      <td>[0.0]</td>\n",
       "    </tr>\n",
       "  </tbody>\n",
       "</table>\n",
       "</div>"
      ],
      "text/plain": [
       "               PredictedLogRevenue   true\n",
       "fullVisitorId                            \n",
       "1995526696366                [0.0]  [0.0]\n",
       "16367580689231               [0.0]  [0.0]\n",
       "18966949534117               [0.0]  [0.0]\n",
       "24844201502183               [0.0]  [0.0]\n",
       "24845665201193               [0.0]  [0.0]"
      ]
     },
     "execution_count": 46,
     "metadata": {},
     "output_type": "execute_result"
    }
   ],
   "source": [
    "concatenated = pd.concat([dfpredictions, dftrue], axis=1)\n",
    "concatenated.rename(columns={0: \"PredictedLogRevenue\", 1: \"true\"},inplace = True)\n",
    "concatenated.head()"
   ]
  },
  {
   "cell_type": "code",
   "execution_count": 49,
   "metadata": {},
   "outputs": [
    {
     "name": "stdout",
     "output_type": "stream",
     "text": [
      "done 1\n"
     ]
    }
   ],
   "source": [
    "def sumSeries(df, col):\n",
    "    newCol = []\n",
    "    for x in df[col]:\n",
    "#         print(np.sum(x) + 1)\n",
    "        if np.sum(x) <0:\n",
    "            newCol.append(math.log( 1))\n",
    "        else:\n",
    "            newCol.append(math.log(np.sum(x) + 1))\n",
    "    return newCol\n",
    "\n",
    "concatenated['PredictedLogRevenue'] = sumSeries(concatenated, 'PredictedLogRevenue')\n",
    "print(\"done 1\")\n",
    "concatenated['true'] = sumSeries(concatenated, 'true')\n",
    "concatenated['fullVisitorId'] = y\n"
   ]
  },
  {
   "cell_type": "code",
   "execution_count": 64,
   "metadata": {},
   "outputs": [
    {
     "name": "stdout",
     "output_type": "stream",
     "text": [
      "6.28231122638\n"
     ]
    }
   ],
   "source": [
    "mse=mean_squared_error(concatenated['true'],concatenated['PredictedLogRevenue'])\n",
    "# mse=mean_squared_error(concatenated['true'],np.zeros(len(concatenated)))\n",
    "\n",
    "\n",
    "rmse=math.sqrt(mse)\n",
    "print(rmse)"
   ]
  },
  {
   "cell_type": "code",
   "execution_count": 53,
   "metadata": {},
   "outputs": [
    {
     "ename": "KeyError",
     "evalue": "\"['fullVisitorId'] not in index\"",
     "output_type": "error",
     "traceback": [
      "\u001b[0;31m---------------------------------------------------------------------------\u001b[0m",
      "\u001b[0;31mKeyError\u001b[0m                                  Traceback (most recent call last)",
      "\u001b[0;32m<ipython-input-53-5c5f3b1e7db2>\u001b[0m in \u001b[0;36m<module>\u001b[0;34m()\u001b[0m\n\u001b[0;32m----> 1\u001b[0;31m \u001b[0mfinalRes\u001b[0m \u001b[0;34m=\u001b[0m \u001b[0mconcatenated\u001b[0m\u001b[0;34m[\u001b[0m\u001b[0;34m[\u001b[0m\u001b[0;34m'PredictedLogRevenue'\u001b[0m\u001b[0;34m,\u001b[0m \u001b[0;34m'fullVisitorId'\u001b[0m\u001b[0;34m]\u001b[0m\u001b[0;34m]\u001b[0m\u001b[0;34m\u001b[0m\u001b[0m\n\u001b[0m",
      "\u001b[0;32m/Users/cassidylitch/anaconda/lib/python2.7/site-packages/pandas/core/frame.pyc\u001b[0m in \u001b[0;36m__getitem__\u001b[0;34m(self, key)\u001b[0m\n\u001b[1;32m   2680\u001b[0m         \u001b[0;32mif\u001b[0m \u001b[0misinstance\u001b[0m\u001b[0;34m(\u001b[0m\u001b[0mkey\u001b[0m\u001b[0;34m,\u001b[0m \u001b[0;34m(\u001b[0m\u001b[0mSeries\u001b[0m\u001b[0;34m,\u001b[0m \u001b[0mnp\u001b[0m\u001b[0;34m.\u001b[0m\u001b[0mndarray\u001b[0m\u001b[0;34m,\u001b[0m \u001b[0mIndex\u001b[0m\u001b[0;34m,\u001b[0m \u001b[0mlist\u001b[0m\u001b[0;34m)\u001b[0m\u001b[0;34m)\u001b[0m\u001b[0;34m:\u001b[0m\u001b[0;34m\u001b[0m\u001b[0m\n\u001b[1;32m   2681\u001b[0m             \u001b[0;31m# either boolean or fancy integer index\u001b[0m\u001b[0;34m\u001b[0m\u001b[0;34m\u001b[0m\u001b[0m\n\u001b[0;32m-> 2682\u001b[0;31m             \u001b[0;32mreturn\u001b[0m \u001b[0mself\u001b[0m\u001b[0;34m.\u001b[0m\u001b[0m_getitem_array\u001b[0m\u001b[0;34m(\u001b[0m\u001b[0mkey\u001b[0m\u001b[0;34m)\u001b[0m\u001b[0;34m\u001b[0m\u001b[0m\n\u001b[0m\u001b[1;32m   2683\u001b[0m         \u001b[0;32melif\u001b[0m \u001b[0misinstance\u001b[0m\u001b[0;34m(\u001b[0m\u001b[0mkey\u001b[0m\u001b[0;34m,\u001b[0m \u001b[0mDataFrame\u001b[0m\u001b[0;34m)\u001b[0m\u001b[0;34m:\u001b[0m\u001b[0;34m\u001b[0m\u001b[0m\n\u001b[1;32m   2684\u001b[0m             \u001b[0;32mreturn\u001b[0m \u001b[0mself\u001b[0m\u001b[0;34m.\u001b[0m\u001b[0m_getitem_frame\u001b[0m\u001b[0;34m(\u001b[0m\u001b[0mkey\u001b[0m\u001b[0;34m)\u001b[0m\u001b[0;34m\u001b[0m\u001b[0m\n",
      "\u001b[0;32m/Users/cassidylitch/anaconda/lib/python2.7/site-packages/pandas/core/frame.pyc\u001b[0m in \u001b[0;36m_getitem_array\u001b[0;34m(self, key)\u001b[0m\n\u001b[1;32m   2724\u001b[0m             \u001b[0;32mreturn\u001b[0m \u001b[0mself\u001b[0m\u001b[0;34m.\u001b[0m\u001b[0m_take\u001b[0m\u001b[0;34m(\u001b[0m\u001b[0mindexer\u001b[0m\u001b[0;34m,\u001b[0m \u001b[0maxis\u001b[0m\u001b[0;34m=\u001b[0m\u001b[0;36m0\u001b[0m\u001b[0;34m)\u001b[0m\u001b[0;34m\u001b[0m\u001b[0m\n\u001b[1;32m   2725\u001b[0m         \u001b[0;32melse\u001b[0m\u001b[0;34m:\u001b[0m\u001b[0;34m\u001b[0m\u001b[0m\n\u001b[0;32m-> 2726\u001b[0;31m             \u001b[0mindexer\u001b[0m \u001b[0;34m=\u001b[0m \u001b[0mself\u001b[0m\u001b[0;34m.\u001b[0m\u001b[0mloc\u001b[0m\u001b[0;34m.\u001b[0m\u001b[0m_convert_to_indexer\u001b[0m\u001b[0;34m(\u001b[0m\u001b[0mkey\u001b[0m\u001b[0;34m,\u001b[0m \u001b[0maxis\u001b[0m\u001b[0;34m=\u001b[0m\u001b[0;36m1\u001b[0m\u001b[0;34m)\u001b[0m\u001b[0;34m\u001b[0m\u001b[0m\n\u001b[0m\u001b[1;32m   2727\u001b[0m             \u001b[0;32mreturn\u001b[0m \u001b[0mself\u001b[0m\u001b[0;34m.\u001b[0m\u001b[0m_take\u001b[0m\u001b[0;34m(\u001b[0m\u001b[0mindexer\u001b[0m\u001b[0;34m,\u001b[0m \u001b[0maxis\u001b[0m\u001b[0;34m=\u001b[0m\u001b[0;36m1\u001b[0m\u001b[0;34m)\u001b[0m\u001b[0;34m\u001b[0m\u001b[0m\n\u001b[1;32m   2728\u001b[0m \u001b[0;34m\u001b[0m\u001b[0m\n",
      "\u001b[0;32m/Users/cassidylitch/anaconda/lib/python2.7/site-packages/pandas/core/indexing.pyc\u001b[0m in \u001b[0;36m_convert_to_indexer\u001b[0;34m(self, obj, axis, is_setter)\u001b[0m\n\u001b[1;32m   1325\u001b[0m                 \u001b[0;32mif\u001b[0m \u001b[0mmask\u001b[0m\u001b[0;34m.\u001b[0m\u001b[0many\u001b[0m\u001b[0;34m(\u001b[0m\u001b[0;34m)\u001b[0m\u001b[0;34m:\u001b[0m\u001b[0;34m\u001b[0m\u001b[0m\n\u001b[1;32m   1326\u001b[0m                     raise KeyError('{mask} not in index'\n\u001b[0;32m-> 1327\u001b[0;31m                                    .format(mask=objarr[mask]))\n\u001b[0m\u001b[1;32m   1328\u001b[0m \u001b[0;34m\u001b[0m\u001b[0m\n\u001b[1;32m   1329\u001b[0m                 \u001b[0;32mreturn\u001b[0m \u001b[0mcom\u001b[0m\u001b[0;34m.\u001b[0m\u001b[0m_values_from_object\u001b[0m\u001b[0;34m(\u001b[0m\u001b[0mindexer\u001b[0m\u001b[0;34m)\u001b[0m\u001b[0;34m\u001b[0m\u001b[0m\n",
      "\u001b[0;31mKeyError\u001b[0m: \"['fullVisitorId'] not in index\""
     ]
    }
   ],
   "source": [
    "finalRes = concatenated[['PredictedLogRevenue', 'fullVisitorId']]"
   ]
  },
  {
   "cell_type": "code",
   "execution_count": 54,
   "metadata": {},
   "outputs": [
    {
     "data": {
      "text/plain": [
       "['PredictedLogRevenue', 'true']"
      ]
     },
     "execution_count": 54,
     "metadata": {},
     "output_type": "execute_result"
    }
   ],
   "source": [
    "list(concatenated)"
   ]
  },
  {
   "cell_type": "code",
   "execution_count": 75,
   "metadata": {},
   "outputs": [],
   "source": [
    "testing = concatenated.sort_values('PredictedLogRevenue')"
   ]
  },
  {
   "cell_type": "code",
   "execution_count": 80,
   "metadata": {},
   "outputs": [
    {
     "name": "stdout",
     "output_type": "stream",
     "text": [
      "300364\n"
     ]
    }
   ],
   "source": [
    "print(len(testing))"
   ]
  },
  {
   "cell_type": "code",
   "execution_count": 79,
   "metadata": {},
   "outputs": [
    {
     "data": {
      "image/png": "[encoded data removed]",
      "text/plain": [
       "<matplotlib.figure.Figure at 0x14753ec10>"
      ]
     },
     "metadata": {},
     "output_type": "display_data"
    }
   ],
   "source": [
    "import matplotlib.pyplot as plt\n",
    "plt.plot(np.arange(0, len(testing)), testing['true'])\n",
    "plt.plot(np.arange(0, len(testing)), testing['PredictedLogRevenue'])\n",
    "plt.legend()\n",
    "plt.show()"
   ]
  },
  {
   "cell_type": "code",
   "execution_count": 77,
   "metadata": {},
   "outputs": [
    {
     "data": {
      "text/plain": [
       "[<matplotlib.lines.Line2D at 0x140ff8c50>]"
      ]
     },
     "execution_count": 77,
     "metadata": {},
     "output_type": "execute_result"
    },
    {
     "data": {
      "image/png": "[encoded data removed]",
      "text/plain": [
       "<matplotlib.figure.Figure at 0x13acf2810>"
      ]
     },
     "metadata": {},
     "output_type": "display_data"
    }
   ],
   "source": [
    "plt.plot(np.arange(0, len(testing)), testing['PredictedLogRevenue'])\n",
    "\n"
   ]
  },
  {
   "cell_type": "code",
   "execution_count": 74,
   "metadata": {},
   "outputs": [
    {
     "data": {
      "text/plain": [
       "fullVisitorId\n",
       "1995526696366           0.000000\n",
       "6613263762584122284     0.000000\n",
       "6613241343663668699     0.000000\n",
       "6613229272476998866     0.000000\n",
       "6613182830594667263     0.000000\n",
       "6613161975749469844     0.000000\n",
       "6613083737965180977    17.906832\n",
       "6613269222945232542     0.000000\n",
       "6613056414841277866     0.000000\n",
       "6613003077496775836     0.000000\n",
       "6612995130262270672     0.000000\n",
       "6612979507692801787     0.000000\n",
       "6612958630416075773     0.000000\n",
       "6612875089566766329    18.601925\n",
       "6612855124042074561     0.000000\n",
       "6613045415744081799     0.000000\n",
       "6612840722156871437     0.000000\n",
       "6613285875535254802     0.000000\n",
       "6613350546629999093     0.000000\n",
       "6613952549933475230    18.324433\n",
       "6613892916772523735     0.000000\n",
       "6613859745769653954     0.000000\n",
       "6613857542502442228     0.000000\n",
       "6613834706342630226     0.000000\n",
       "6613759261141643318     0.000000\n",
       "6613317938479024930    17.957796\n",
       "6613747657611618055     0.000000\n",
       "6613662553260754845     0.000000\n",
       "6613634216029955909     0.000000\n",
       "6613615847700766847    18.416664\n",
       "                         ...    \n",
       "9950808630329717146    19.034408\n",
       "7366352801264971447    21.520915\n",
       "1236576483103190244    18.455374\n",
       "6983420736515782638    19.832518\n",
       "3501923127981134061    19.260940\n",
       "7326951502442664630    19.466715\n",
       "5898592763402398705    19.493235\n",
       "4099631678878053818    21.641713\n",
       "374673558085171561      0.000000\n",
       "1820256883232675630    19.243281\n",
       "1330190645874610071    19.883746\n",
       "8558034861895282571    18.126136\n",
       "3333914321172707399    18.756933\n",
       "156895131413353350     17.877233\n",
       "110987916574895345     19.038909\n",
       "6695973542879608037    18.369630\n",
       "6406002776633018446    19.327820\n",
       "3793880875614125844    18.726035\n",
       "7727623005480486072    19.073747\n",
       "5109561586860697805    20.215752\n",
       "4428739076160836883    19.920447\n",
       "2509227854074155417    19.798130\n",
       "8167238589183660985    18.195173\n",
       "9027225736619211409    19.613060\n",
       "741970382290802285     19.998762\n",
       "5725127920446791670    19.520169\n",
       "9360473516090649556    20.421562\n",
       "9949154456158816470    19.965239\n",
       "5260771635527148522    21.123253\n",
       "1957458976293878100    24.737183\n",
       "Name: PredictedLogRevenue, Length: 300364, dtype: float64"
      ]
     },
     "execution_count": 74,
     "metadata": {},
     "output_type": "execute_result"
    }
   ],
   "source": [
    "testing['PredictedLogRevenue']"
   ]
  },
  {
   "cell_type": "code",
   "execution_count": 81,
   "metadata": {},
   "outputs": [
    {
     "data": {
      "text/plain": [
       "(401589, 57)"
      ]
     },
     "execution_count": 81,
     "metadata": {},
     "output_type": "execute_result"
    }
   ],
   "source": [
    "df_test.shape"
   ]
  },
  {
   "cell_type": "code",
   "execution_count": null,
   "metadata": {},
   "outputs": [],
   "source": []
  }
 ],
 "metadata": {
  "kernelspec": {
   "display_name": "Python [default]",
   "language": "python",
   "name": "python2"
  },
  "language_info": {
   "codemirror_mode": {
    "name": "ipython",
    "version": 2
   },
   "file_extension": ".py",
   "mimetype": "text/x-python",
   "name": "python",
   "nbconvert_exporter": "python",
   "pygments_lexer": "ipython2",
   "version": "2.7.13"
  }
 },
 "nbformat": 4,
 "nbformat_minor": 2
}
