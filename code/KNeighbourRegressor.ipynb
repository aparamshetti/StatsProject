{
 "cells": [
  {
   "cell_type": "code",
   "execution_count": 13,
   "metadata": {},
   "outputs": [],
   "source": [
    "import time\n",
    "import pandas as pd\n",
    "import numpy as np\n",
    "from sklearn.model_selection import train_test_split\n",
    "from sklearn.preprocessing import scale, normalize\n",
    "from sklearn.neighbors import KNeighborsRegressor\n",
    "from sklearn.metrics import explained_variance_score, mean_absolute_error, mean_squared_error, r2_score"
   ]
  },
  {
   "cell_type": "code",
   "execution_count": 7,
   "metadata": {},
   "outputs": [],
   "source": [
    "def load_data():\n",
    "    X_train = pd.read_pickle('../data/X_train_pca.npk')\n",
    "    X_test = pd.read_pickle('../data/X_test_pca.npk')\n",
    "\n",
    "    y_train = pd.read_pickle('../data/y_train.pkl')\n",
    "    y_test = pd.read_pickle('../data/y_test.pkl')\n",
    "    \n",
    "    return X_train, y_train, X_test, y_test"
   ]
  },
  {
   "cell_type": "code",
   "execution_count": 3,
   "metadata": {},
   "outputs": [],
   "source": [
    "def errors(y_pred, y_test):\n",
    "    print('R^2 score:', r2_score(y_pred, y_test))\n",
    "    print('Mean absolute error:', mean_absolute_error(y_pred, y_test))\n",
    "    print('Mean squared error:', mean_squared_error(y_pred, y_test))"
   ]
  },
  {
   "cell_type": "code",
   "execution_count": 9,
   "metadata": {},
   "outputs": [],
   "source": [
    "# normalize the X_train and X_test data\n",
    "def run_scaled(X_train, y_train, X_test, y_test, log=False):\n",
    "    xtrain_scaled = normalize(X_train)\n",
    "    xtest_scaled = normalize(X_test)\n",
    "        \n",
    "    if log:\n",
    "        # convert transactionRevenue to log(transactionRevenue)\n",
    "        y_train = y_train['totals.transactionRevenue'].replace(0, 1).apply(np.log)\n",
    "        y_test = y_test['totals.transactionRevenue'].replace(0, 1).apply(np.log)\n",
    "    else:\n",
    "        y_train = y_train['totals.transactionRevenue']\n",
    "        y_test = y_test['totals.transactionRevenue']\n",
    "\n",
    "    k_neighbors_regressor = KNeighborsRegressor(n_neighbors=10, weights='uniform', algorithm='auto', p=2, n_jobs=-1)\n",
    "    k_neighbors_regressor.fit(xtrain_scaled, y_train)\n",
    "    y_pred = k_neighbors_regressor.predict(xtest_scaled)\n",
    "    \n",
    "    errors(y_pred, y_test)"
   ]
  },
  {
   "cell_type": "code",
   "execution_count": 10,
   "metadata": {},
   "outputs": [],
   "source": [
    "def run(X_train, y_train, X_test, y_test, log=False):\n",
    "    if log:\n",
    "        # convert transactionRevenue to log(transactionRevenue)\n",
    "        y_train = y_train['totals.transactionRevenue'].replace(0, 1).apply(np.log)\n",
    "        y_test = y_test['totals.transactionRevenue'].replace(0, 1).apply(np.log)\n",
    "    else:\n",
    "        y_train = y_train['totals.transactionRevenue']\n",
    "        y_test = y_test['totals.transactionRevenue']\n",
    "\n",
    "    k_neighbors_regressor = KNeighborsRegressor(n_neighbors=10, weights='uniform', algorithm='auto', p=2, n_jobs=-1)\n",
    "    k_neighbors_regressor.fit(X_train, y_train)\n",
    "    y_pred = k_neighbors_regressor.predict(X_test)\n",
    "    \n",
    "    errors(y_pred, y_test)"
   ]
  },
  {
   "cell_type": "code",
   "execution_count": 14,
   "metadata": {},
   "outputs": [
    {
     "name": "stdout",
     "output_type": "stream",
     "text": [
      "Scaled the predictors\n",
      "R^2 score: -3.8385387801624935\n",
      "Mean absolute error: 2152779.0629947525\n",
      "Mean squared error: 2151677492722448.2\n",
      "time taken: 131.7610239982605\n",
      "\n",
      "Scaled the predictors but took log of response\n",
      "R^2 score: -1.2097618659080394\n",
      "Mean absolute error: 0.26457123414121275\n",
      "Mean squared error: 2.574164946920913\n",
      "time taken: 126.13101291656494\n",
      "\n",
      "Didn't scale the predictors\n",
      "R^2 score: -7.0332189997249674\n",
      "Mean absolute error: 2026958.773039919\n",
      "Mean squared error: 1983370617729742.5\n",
      "time taken: 156.87695789337158\n",
      "\n",
      "Didn't scale the predictors but took log of response\n",
      "R^2 score: -1.219342865399653\n",
      "Mean absolute error: 0.2617276099462316\n",
      "Mean squared error: 2.558863692018065\n",
      "time taken: 158.51106572151184\n"
     ]
    }
   ],
   "source": [
    "X_train, y_train, X_test, y_test = load_data()\n",
    "\n",
    "start = time.time()\n",
    "print(\"Scaled the predictors\")\n",
    "run_scaled(X_train, y_train, X_test, y_test)\n",
    "print('time taken:', str(time.time() - start))\n",
    "\n",
    "print()\n",
    "start = time.time()\n",
    "print(\"Scaled the predictors but took log of response\")\n",
    "run_scaled(X_train, y_train, X_test, y_test, log=True)\n",
    "print('time taken:', str(time.time() - start))\n",
    "\n",
    "print()\n",
    "start = time.time()\n",
    "print(\"Didn't scale the predictors\")\n",
    "run(X_train, y_train, X_test, y_test)\n",
    "print('time taken:', str(time.time() - start))\n",
    "\n",
    "print()\n",
    "start = time.time()\n",
    "print(\"Didn't scale the predictors but took log of response\")\n",
    "run(X_train, y_train, X_test, y_test, log=True)\n",
    "print('time taken:', str(time.time() - start))"
   ]
  }
 ],
 "metadata": {
  "kernelspec": {
   "display_name": "Python 3",
   "language": "python",
   "name": "python3"
  },
  "language_info": {
   "codemirror_mode": {
    "name": "ipython",
    "version": 3
   },
   "file_extension": ".py",
   "mimetype": "text/x-python",
   "name": "python",
   "nbconvert_exporter": "python",
   "pygments_lexer": "ipython3",
   "version": "3.6.5"
  }
 },
 "nbformat": 4,
 "nbformat_minor": 2
}
