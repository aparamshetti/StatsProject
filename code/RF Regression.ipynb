{
 "cells": [
  {
   "cell_type": "code",
   "execution_count": 3,
   "metadata": {
    "scrolled": true
   },
   "outputs": [],
   "source": [
    "import numpy as np\n",
    "import pandas as pd\n",
    "import math\n",
    "import matplotlib.pyplot as plt\n",
    "from sklearn.model_selection import cross_val_score\n",
    "from sklearn.metrics import mean_squared_error\n",
    "from sklearn.ensemble import RandomForestRegressor\n",
    "from sklearn.model_selection import GridSearchCV\n",
    "\n",
    "#PCA dimension reduced files\n",
    "X_train = pd.read_pickle(\"../X_train_pca.npk\")\n",
    "X_test = pd.read_pickle(\"../X_test_pca.npk\")\n",
    "\n",
    "#keeps the totalRansactionRevenue, class_pred = 0 if didnt buy anythin and 1 if did\n",
    "y_test = pd.read_pickle(\"../y_test.pkl\")\n",
    "y_train = pd.read_pickle(\"../y_train.pkl\")"
   ]
  },
  {
   "cell_type": "code",
   "execution_count": 4,
   "metadata": {},
   "outputs": [],
   "source": [
    "#Remove entries with 0 revenue for PCA Data training set \n",
    "X_train=X_train[y_train ['totals.transactionRevenue']!=0]\n",
    "y_train = y_train[y_train['totals.transactionRevenue'] != 0]\n"
   ]
  },
  {
   "cell_type": "code",
   "execution_count": 5,
   "metadata": {},
   "outputs": [],
   "source": [
    "#Remove entries with 0 revenue for PCA testing set \n",
    "X_test=X_test[y_test['totals.transactionRevenue']!=0]\n",
    "y_test=y_test[y_test['totals.transactionRevenue']!=0]"
   ]
  },
  {
   "cell_type": "code",
   "execution_count": 13,
   "metadata": {
    "scrolled": false
   },
   "outputs": [],
   "source": [
    "#Random Forest Regression\n",
    "clf = RandomForestRegressor(n_estimators = 100) "
   ]
  },
  {
   "cell_type": "code",
   "execution_count": 16,
   "metadata": {
    "scrolled": true
   },
   "outputs": [
    {
     "data": {
      "text/plain": [
       "GridSearchCV(cv=3, error_score='raise-deprecating',\n",
       "       estimator=RandomForestRegressor(bootstrap=True, criterion='mse', max_depth=None,\n",
       "           max_features='auto', max_leaf_nodes=None,\n",
       "           min_impurity_decrease=0.0, min_impurity_split=None,\n",
       "           min_samples_leaf=1, min_samples_split=2,\n",
       "           min_weight_fraction_leaf=0.0, n_estimators=100, n_jobs=None,\n",
       "           oob_score=False, random_state=None, verbose=0, warm_start=False),\n",
       "       fit_params=None, iid='warn', n_jobs=None,\n",
       "       param_grid={'max_features': ['auto', 'log2'], 'min_samples_leaf': [0.1, 0.001]},\n",
       "       pre_dispatch='2*n_jobs', refit=True, return_train_score='warn',\n",
       "       scoring=None, verbose=0)"
      ]
     },
     "execution_count": 16,
     "metadata": {},
     "output_type": "execute_result"
    }
   ],
   "source": [
    "#Use cross validation to determine best parameters\n",
    "import random\n",
    "random.seed(77)\n",
    "param_grid = {\n",
    "#                  'n_estimators': [5, 10, 15, 20],\n",
    "                'max_features': ['auto', 'log2'],\n",
    "                'min_samples_leaf':  [.1, .001]\n",
    "#                  'max_depth': [2, 5, 7, 9]\n",
    "             }\n",
    "\n",
    "grid_clf = GridSearchCV(clf, param_grid, cv=3)\n",
    "grid_clf.fit(X_train, np.log(y_train['totals.transactionRevenue']))"
   ]
  },
  {
   "cell_type": "code",
   "execution_count": 17,
   "metadata": {},
   "outputs": [
    {
     "data": {
      "text/plain": [
       "{'max_features': 'log2', 'min_samples_leaf': 0.001}"
      ]
     },
     "execution_count": 17,
     "metadata": {},
     "output_type": "execute_result"
    }
   ],
   "source": [
    "#Best Parameters from cross validation\n",
    "grid_clf.best_params_"
   ]
  },
  {
   "cell_type": "code",
   "execution_count": 18,
   "metadata": {},
   "outputs": [],
   "source": [
    "#Make Predictions\n",
    "y_pred=grid_clf.predict(X_test)"
   ]
  },
  {
   "cell_type": "code",
   "execution_count": 19,
   "metadata": {},
   "outputs": [
    {
     "data": {
      "text/plain": [
       "1.1201821264178737"
      ]
     },
     "execution_count": 19,
     "metadata": {},
     "output_type": "execute_result"
    }
   ],
   "source": [
    "#Calculate test MSE \n",
    "mse=mean_squared_error(np.log(y_test['totals.transactionRevenue']), y_pred)\n",
    "rmse=math.sqrt(mse)\n",
    "rmse"
   ]
  },
  {
   "cell_type": "code",
   "execution_count": 9,
   "metadata": {},
   "outputs": [
    {
     "data": {
      "text/plain": [
       "<matplotlib.legend.Legend at 0x2d518680898>"
      ]
     },
     "execution_count": 9,
     "metadata": {},
     "output_type": "execute_result"
    },
    {
     "data": {
      "image/png": "[encoded data removed]",
      "text/plain": [
       "<Figure size 432x288 with 1 Axes>"
      ]
     },
     "metadata": {
      "needs_background": "light"
     },
     "output_type": "display_data"
    }
   ],
   "source": [
    "import pylab\n",
    "import matplotlib.patches as mpatches\n",
    "\n",
    "#Plot RFRegression \n",
    "plt.plot(range(0,len(X_test)),y_test['totals.transactionRevenue'])\n",
    "plt.plot(range(0,len(y_test)),y_pred) \n",
    "blue_patch = mpatches.Patch(color='blue', label='Test Set')\n",
    "orange_patch=mpatches.Patch(color='orange',label='Predicted')\n",
    "plt.legend(handles=[blue_patch,orange_patch])\n"
   ]
  }
 ],
 "metadata": {
  "kernelspec": {
   "display_name": "Python [default]",
   "language": "python",
   "name": "python2"
  },
  "language_info": {
   "codemirror_mode": {
    "name": "ipython",
    "version": 2
   },
   "file_extension": ".py",
   "mimetype": "text/x-python",
   "name": "python",
   "nbconvert_exporter": "python",
   "pygments_lexer": "ipython2",
   "version": "2.7.13"
  }
 },
 "nbformat": 4,
 "nbformat_minor": 2
}
