{
 "cells": [
  {
   "cell_type": "code",
   "execution_count": 80,
   "metadata": {},
   "outputs": [
    {
     "name": "stderr",
     "output_type": "stream",
     "text": [
      "c:\\python36\\lib\\site-packages\\IPython\\core\\interactiveshell.py:3020: DtypeWarning: Columns (1) have mixed types. Specify dtype option on import or set low_memory=False.\n",
      "  interactivity=interactivity, compiler=compiler, result=result)\n"
     ]
    }
   ],
   "source": [
    "#Import necessary packages and upload data files\n",
    "%matplotlib inline\n",
    "import pandas as pd\n",
    "import numpy as np\n",
    "import matplotlib.pyplot as plt\n",
    "from sklearn.model_selection import train_test_split\n",
    "from sklearn.preprocessing import scale\n",
    "from sklearn.linear_model import Ridge, RidgeCV, Lasso, LassoCV\n",
    "from sklearn.metrics import mean_squared_error\n",
    "from sklearn.linear_model import Ridge\n",
    "from sklearn.model_selection import cross_val_score\n",
    "from matplotlib.pyplot import *\n",
    "\n",
    "import os\n",
    "os.chdir('C:\\\\Users\\\\enewm\\\\Documents\\\\MA 510\\\\data')\n",
    "\n",
    "#Read Train Data \n",
    "df = pd.read_csv(\"cleaned_train.csv\")\n",
    "df = df.drop(columns = ['Unnamed: 0'])\n",
    "#PCA dimension reduced files\n",
    "X_train = pd.read_pickle(\"X_train_pca.npk\")\n",
    "X_test = pd.read_pickle(\"X_test_pca.npk\")\n",
    "\n",
    "#keeps the totalRansactionRevenue, class_pred = 0 if didnt buy anythin and 1 if did\n",
    "y_test = pd.read_pickle(\"y_test.pkl\")\n",
    "y_train = pd.read_pickle(\"y_train.pkl\")\n",
    "\n"
   ]
  },
  {
   "cell_type": "code",
   "execution_count": 67,
   "metadata": {
    "scrolled": true
   },
   "outputs": [],
   "source": [
    "#Remove entries with 0 revenue for PCA Data training set \n",
    "X_train=X_train[y_train ['totals.transactionRevenue']!=0]\n",
    "y_train = y_train[y_train['totals.transactionRevenue'] != 0]\n"
   ]
  },
  {
   "cell_type": "code",
   "execution_count": 81,
   "metadata": {},
   "outputs": [],
   "source": [
    "#Remove entries with 0 revenue in the testing set in PCA Data\n",
    "X_test=X_test[y_test['totals.transactionRevenue']!=0]\n",
    "y_test=y_test[y_test['totals.transactionRevenue']!=0]"
   ]
  },
  {
   "cell_type": "code",
   "execution_count": 95,
   "metadata": {},
   "outputs": [],
   "source": [
    "#Remove any additional columns\n",
    "y_train_rev=y_train['totals.transactionRevenue']\n",
    "y_test_rev=y_test['totals.transactionRevenue']"
   ]
  },
  {
   "cell_type": "code",
   "execution_count": 96,
   "metadata": {},
   "outputs": [],
   "source": [
    "#Remove all 0 values from the original training set\n",
    "df = df[df['totals.transactionRevenue'] != 0]\n",
    "#Separate into predictors and response\n",
    "y_original =df['totals.transactionRevenue']\n",
    "x_original=df.drop('totals.transactionRevenue',axis=1)"
   ]
  },
  {
   "cell_type": "code",
   "execution_count": 90,
   "metadata": {},
   "outputs": [
    {
     "data": {
      "text/plain": [
       "0.008737642000038414"
      ]
     },
     "execution_count": 90,
     "metadata": {},
     "output_type": "execute_result"
    }
   ],
   "source": [
    "# Cross Validation to determine alpha level (lambda) for original dataset\n",
    "alphas = 10**np.linspace(10,-2,100)*0.5\n",
    "ridgecv_orig = RidgeCV(alphas=alphas, scoring='neg_mean_squared_error', normalize=True)\n",
    "ridgecv_orig.fit(x_train_orig, y_train_orig)\n",
    "ridgecv_orig.alpha_\n",
    "#Alpha=0.00873"
   ]
  },
  {
   "cell_type": "code",
   "execution_count": 97,
   "metadata": {
    "scrolled": true
   },
   "outputs": [
    {
     "data": {
      "text/plain": [
       "2.764952976106332e+17"
      ]
     },
     "execution_count": 97,
     "metadata": {},
     "output_type": "execute_result"
    }
   ],
   "source": [
    "#Compute Test MSE on Original Dataset\n",
    "ridge_orig = Ridge(alpha=ridgecv_orig.alpha_, normalize=True)\n",
    "ridge_orig.fit(x_test_orig, y_test_orig)\n",
    "mean_squared_error(y_test_orig, ridge_orig.predict(x_test_orig))"
   ]
  },
  {
   "cell_type": "code",
   "execution_count": 100,
   "metadata": {},
   "outputs": [],
   "source": [
    "#Divide PCA Testing set into Training and Test Set\n",
    "x_train2, x_test2 , y_train2, y_test2= train_test_split(X_train,y_train_rev,test_size=0.2, random_state=4)"
   ]
  },
  {
   "cell_type": "code",
   "execution_count": 93,
   "metadata": {},
   "outputs": [
    {
     "data": {
      "text/plain": [
       "0.18824679033962358"
      ]
     },
     "execution_count": 93,
     "metadata": {},
     "output_type": "execute_result"
    }
   ],
   "source": [
    "# Cross Validation to determine alpha level (lambda) (PCA data)\n",
    "alphas = 10**np.linspace(10,-2,100)*0.5\n",
    "ridgecv = RidgeCV(alphas=alphas, scoring='neg_mean_squared_error', normalize=True)\n",
    "ridgecv.fit(x_train2, y_train2)\n",
    "ridgecv.alpha_\n",
    "#Alpha=0.188"
   ]
  },
  {
   "cell_type": "code",
   "execution_count": 106,
   "metadata": {},
   "outputs": [
    {
     "data": {
      "text/plain": [
       "5840061243656321.0"
      ]
     },
     "execution_count": 106,
     "metadata": {},
     "output_type": "execute_result"
    }
   ],
   "source": [
    "#Compute Test MSE on Original Dataset\n",
    "ridge = Ridge(alpha=ridgecv.alpha_, normalize=True)\n",
    "ridge.fit(x_test2, y_test2)\n",
    "mean_squared_error(y_test2, ridge.predict(x_test2))"
   ]
  },
  {
   "cell_type": "code",
   "execution_count": 107,
   "metadata": {
    "scrolled": true
   },
   "outputs": [
    {
     "data": {
      "text/plain": [
       "1.314893531781035e+17"
      ]
     },
     "execution_count": 107,
     "metadata": {},
     "output_type": "execute_result"
    }
   ],
   "source": [
    "#Compute Test MSE on First Test Data Set not used in model\n",
    "ridge = Ridge(alpha=ridgecv.alpha_, normalize=True)\n",
    "ridge.fit(X_test, y_test_rev)\n",
    "mean_squared_error(y_test_rev, ridge.predict(X_test))"
   ]
  },
  {
   "cell_type": "code",
   "execution_count": null,
   "metadata": {},
   "outputs": [],
   "source": []
  }
 ],
 "metadata": {
  "kernelspec": {
   "display_name": "Python 3",
   "language": "python",
   "name": "python3"
  },
  "language_info": {
   "codemirror_mode": {
    "name": "ipython",
    "version": 3
   },
   "file_extension": ".py",
   "mimetype": "text/x-python",
   "name": "python",
   "nbconvert_exporter": "python",
   "pygments_lexer": "ipython3",
   "version": "3.6.6"
  }
 },
 "nbformat": 4,
 "nbformat_minor": 2
}
