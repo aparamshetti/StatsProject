{
 "cells": [
  {
   "cell_type": "code",
   "execution_count": 3,
   "metadata": {},
   "outputs": [],
   "source": [
    "import pandas as pd\n",
    "import numpy as np\n",
    "\n",
    "#PCA dimension reduced files\n",
    "X_train = np.load(\"../X_train_pca.npk\")\n",
    "X_test = np.load(\"../X_test_pca.npk\")\n",
    "\n",
    "#keeps the totalRansactionRevenue, class_pred = 0 if didnt buy anythin and 1 if did\n",
    "y_test = pd.read_pickle(\"../y_test.pkl\")\n",
    "y_train = pd.read_pickle(\"../y_train.pkl\")"
   ]
  },
  {
   "cell_type": "code",
   "execution_count": 5,
   "metadata": {},
   "outputs": [
    {
     "data": {
      "text/html": [
       "<div>\n",
       "<style scoped>\n",
       "    .dataframe tbody tr th:only-of-type {\n",
       "        vertical-align: middle;\n",
       "    }\n",
       "\n",
       "    .dataframe tbody tr th {\n",
       "        vertical-align: top;\n",
       "    }\n",
       "\n",
       "    .dataframe thead th {\n",
       "        text-align: right;\n",
       "    }\n",
       "</style>\n",
       "<table border=\"1\" class=\"dataframe\">\n",
       "  <thead>\n",
       "    <tr style=\"text-align: right;\">\n",
       "      <th></th>\n",
       "      <th>totals.transactionRevenue</th>\n",
       "      <th>class_pred</th>\n",
       "      <th>fullVisitorId</th>\n",
       "    </tr>\n",
       "  </thead>\n",
       "  <tbody>\n",
       "    <tr>\n",
       "      <th>766871</th>\n",
       "      <td>0.0</td>\n",
       "      <td>0.0</td>\n",
       "      <td>2494836869606104901</td>\n",
       "    </tr>\n",
       "    <tr>\n",
       "      <th>766872</th>\n",
       "      <td>0.0</td>\n",
       "      <td>0.0</td>\n",
       "      <td>9442171079290686967</td>\n",
       "    </tr>\n",
       "    <tr>\n",
       "      <th>766873</th>\n",
       "      <td>0.0</td>\n",
       "      <td>0.0</td>\n",
       "      <td>4699879371433238566</td>\n",
       "    </tr>\n",
       "    <tr>\n",
       "      <th>766874</th>\n",
       "      <td>0.0</td>\n",
       "      <td>0.0</td>\n",
       "      <td>1744198241423644265</td>\n",
       "    </tr>\n",
       "    <tr>\n",
       "      <th>766875</th>\n",
       "      <td>0.0</td>\n",
       "      <td>0.0</td>\n",
       "      <td>7721419154688899174</td>\n",
       "    </tr>\n",
       "  </tbody>\n",
       "</table>\n",
       "</div>"
      ],
      "text/plain": [
       "        totals.transactionRevenue  class_pred        fullVisitorId\n",
       "766871                        0.0         0.0  2494836869606104901\n",
       "766872                        0.0         0.0  9442171079290686967\n",
       "766873                        0.0         0.0  4699879371433238566\n",
       "766874                        0.0         0.0  1744198241423644265\n",
       "766875                        0.0         0.0  7721419154688899174"
      ]
     },
     "execution_count": 5,
     "metadata": {},
     "output_type": "execute_result"
    }
   ],
   "source": [
    "y_test.head()"
   ]
  },
  {
   "cell_type": "code",
   "execution_count": null,
   "metadata": {},
   "outputs": [],
   "source": []
  }
 ],
 "metadata": {
  "kernelspec": {
   "display_name": "Python [default]",
   "language": "python",
   "name": "python2"
  },
  "language_info": {
   "codemirror_mode": {
    "name": "ipython",
    "version": 2
   },
   "file_extension": ".py",
   "mimetype": "text/x-python",
   "name": "python",
   "nbconvert_exporter": "python",
   "pygments_lexer": "ipython2",
   "version": "2.7.13"
  }
 },
 "nbformat": 4,
 "nbformat_minor": 2
}
