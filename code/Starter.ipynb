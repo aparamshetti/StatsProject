{
 "cells": [
  {
   "cell_type": "code",
   "execution_count": 20,
   "metadata": {},
   "outputs": [],
   "source": [
    "import pandas as pd\n",
    "import numpy as np\n",
    "from sklearn.metrics import confusion_matrix\n",
    "from sklearn.model_selection import cross_val_score\n",
    "from sklearn.discriminant_analysis import QuadraticDiscriminantAnalysis as QDA\n",
    "\n",
    "\n",
    "\n",
    "\n",
    "#PCA dimension reduced files\n",
    "X_train = np.load(\"../X_train_pca.npk\")\n",
    "X_test = np.load(\"../X_test_pca.npk\")\n",
    "\n",
    "#keeps the totalRansactionRevenue, class_pred = 0 if didnt buy anythin and 1 if did\n",
    "y_test = pd.read_pickle(\"../y_test.pkl\")\n",
    "y_train = pd.read_pickle(\"../y_train.pkl\")"
   ]
  },
  {
   "cell_type": "markdown",
   "metadata": {},
   "source": [
    "# LDA"
   ]
  },
  {
   "cell_type": "code",
   "execution_count": 10,
   "metadata": {},
   "outputs": [],
   "source": [
    "from sklearn.discriminant_analysis import LinearDiscriminantAnalysis as LDA\n",
    "from sklearn.model_selection import GridSearchCV\n",
    "# Create the parameter grid based on the results of random search \n",
    "param_grid = {\n",
    "    'shrinkage': [None, 'auto'],\n",
    "    'solver': ['eigen', 'lsqr']\n",
    "}\n",
    "\n",
    "clf = LDA()\n",
    "# Instantiate the grid search model\n",
    "grid_search = GridSearchCV(estimator = clf, param_grid = param_grid, scoring = 'f1',\n",
    "                          cv = 3, verbose = 10,return_train_score=True)"
   ]
  },
  {
   "cell_type": "code",
   "execution_count": 11,
   "metadata": {},
   "outputs": [
    {
     "name": "stdout",
     "output_type": "stream",
     "text": [
      "Fitting 3 folds for each of 4 candidates, totalling 12 fits\n",
      "[CV] shrinkage=None, solver=eigen ....................................\n"
     ]
    },
    {
     "name": "stderr",
     "output_type": "stream",
     "text": [
      "[Parallel(n_jobs=1)]: Using backend SequentialBackend with 1 concurrent workers.\n"
     ]
    },
    {
     "name": "stdout",
     "output_type": "stream",
     "text": [
      "[CV]  shrinkage=None, solver=eigen, score=0.368243243243, total=   1.8s\n",
      "[CV] shrinkage=None, solver=eigen ....................................\n"
     ]
    },
    {
     "name": "stderr",
     "output_type": "stream",
     "text": [
      "[Parallel(n_jobs=1)]: Done   1 out of   1 | elapsed:    2.0s remaining:    0.0s\n"
     ]
    },
    {
     "name": "stdout",
     "output_type": "stream",
     "text": [
      "[CV]  shrinkage=None, solver=eigen, score=0.357248773811, total=   1.6s\n",
      "[CV] shrinkage=None, solver=eigen ....................................\n"
     ]
    },
    {
     "name": "stderr",
     "output_type": "stream",
     "text": [
      "[Parallel(n_jobs=1)]: Done   2 out of   2 | elapsed:    3.8s remaining:    0.0s\n"
     ]
    },
    {
     "name": "stdout",
     "output_type": "stream",
     "text": [
      "[CV]  shrinkage=None, solver=eigen, score=0.35349252399, total=   1.6s\n",
      "[CV] shrinkage=None, solver=lsqr .....................................\n"
     ]
    },
    {
     "name": "stderr",
     "output_type": "stream",
     "text": [
      "[Parallel(n_jobs=1)]: Done   3 out of   3 | elapsed:    5.6s remaining:    0.0s\n"
     ]
    },
    {
     "name": "stdout",
     "output_type": "stream",
     "text": [
      "[CV]  shrinkage=None, solver=lsqr, score=0.367093421219, total=   1.6s\n",
      "[CV] shrinkage=None, solver=lsqr .....................................\n"
     ]
    },
    {
     "name": "stderr",
     "output_type": "stream",
     "text": [
      "[Parallel(n_jobs=1)]: Done   4 out of   4 | elapsed:    7.4s remaining:    0.0s\n"
     ]
    },
    {
     "name": "stdout",
     "output_type": "stream",
     "text": [
      "[CV]  shrinkage=None, solver=lsqr, score=0.358182052272, total=   1.8s\n",
      "[CV] shrinkage=None, solver=lsqr .....................................\n"
     ]
    },
    {
     "name": "stderr",
     "output_type": "stream",
     "text": [
      "[Parallel(n_jobs=1)]: Done   5 out of   5 | elapsed:    9.4s remaining:    0.0s\n"
     ]
    },
    {
     "name": "stdout",
     "output_type": "stream",
     "text": [
      "[CV]  shrinkage=None, solver=lsqr, score=0.354746164401, total=   1.7s\n",
      "[CV] shrinkage=auto, solver=eigen ....................................\n"
     ]
    },
    {
     "name": "stderr",
     "output_type": "stream",
     "text": [
      "[Parallel(n_jobs=1)]: Done   6 out of   6 | elapsed:   11.3s remaining:    0.0s\n"
     ]
    },
    {
     "name": "stdout",
     "output_type": "stream",
     "text": [
      "[CV]  shrinkage=auto, solver=eigen, score=0.367893729596, total=   2.7s\n",
      "[CV] shrinkage=auto, solver=eigen ....................................\n"
     ]
    },
    {
     "name": "stderr",
     "output_type": "stream",
     "text": [
      "[Parallel(n_jobs=1)]: Done   7 out of   7 | elapsed:   14.2s remaining:    0.0s\n"
     ]
    },
    {
     "name": "stdout",
     "output_type": "stream",
     "text": [
      "[CV]  shrinkage=auto, solver=eigen, score=0.356313993174, total=   2.9s\n",
      "[CV] shrinkage=auto, solver=eigen ....................................\n"
     ]
    },
    {
     "name": "stderr",
     "output_type": "stream",
     "text": [
      "[Parallel(n_jobs=1)]: Done   8 out of   8 | elapsed:   17.3s remaining:    0.0s\n"
     ]
    },
    {
     "name": "stdout",
     "output_type": "stream",
     "text": [
      "[CV]  shrinkage=auto, solver=eigen, score=0.35284951024, total=   3.1s\n",
      "[CV] shrinkage=auto, solver=lsqr .....................................\n"
     ]
    },
    {
     "name": "stderr",
     "output_type": "stream",
     "text": [
      "[Parallel(n_jobs=1)]: Done   9 out of   9 | elapsed:   20.6s remaining:    0.0s\n"
     ]
    },
    {
     "name": "stdout",
     "output_type": "stream",
     "text": [
      "[CV]  shrinkage=auto, solver=lsqr, score=0.366615853659, total=   2.1s\n",
      "[CV] shrinkage=auto, solver=lsqr .....................................\n",
      "[CV]  shrinkage=auto, solver=lsqr, score=0.358432181537, total=   2.4s\n",
      "[CV] shrinkage=auto, solver=lsqr .....................................\n",
      "[CV]  shrinkage=auto, solver=lsqr, score=0.354367112333, total=   2.0s\n"
     ]
    },
    {
     "name": "stderr",
     "output_type": "stream",
     "text": [
      "[Parallel(n_jobs=1)]: Done  12 out of  12 | elapsed:   27.7s finished\n"
     ]
    },
    {
     "data": {
      "text/plain": [
       "GridSearchCV(cv=3, error_score='raise-deprecating',\n",
       "       estimator=LinearDiscriminantAnalysis(n_components=None, priors=None, shrinkage=None,\n",
       "              solver='svd', store_covariance=False, tol=0.0001),\n",
       "       fit_params=None, iid='warn', n_jobs=None,\n",
       "       param_grid={'shrinkage': [None, 'auto'], 'solver': ['eigen', 'lsqr']},\n",
       "       pre_dispatch='2*n_jobs', refit=True, return_train_score=True,\n",
       "       scoring='f1', verbose=10)"
      ]
     },
     "execution_count": 11,
     "metadata": {},
     "output_type": "execute_result"
    }
   ],
   "source": [
    "grid_search.fit(X_train, y_train['class_pred'])\n"
   ]
  },
  {
   "cell_type": "code",
   "execution_count": 13,
   "metadata": {},
   "outputs": [
    {
     "data": {
      "text/plain": [
       "{'shrinkage': None, 'solver': 'lsqr'}"
      ]
     },
     "execution_count": 13,
     "metadata": {},
     "output_type": "execute_result"
    }
   ],
   "source": [
    "grid_search.best_params_"
   ]
  },
  {
   "cell_type": "code",
   "execution_count": 16,
   "metadata": {},
   "outputs": [
    {
     "data": {
      "text/plain": [
       "array([[368345,   5508],\n",
       "       [  1883,   1978]])"
      ]
     },
     "execution_count": 16,
     "metadata": {},
     "output_type": "execute_result"
    }
   ],
   "source": [
    "grid_search.best_estimator_.fit(X_train, y_train['class_pred'])\n",
    "pred = grid_search.best_estimator_.predict(X_test)\n",
    "confusion_matrix(y_test['class_pred'], pred)\n"
   ]
  },
  {
   "cell_type": "code",
   "execution_count": 22,
   "metadata": {},
   "outputs": [
    {
     "name": "stdout",
     "output_type": "stream",
     "text": [
      "[0.36098374 0.37614885 0.34768348 0.35824688 0.35529608]\n"
     ]
    }
   ],
   "source": [
    "print(cross_val_score(grid_search.best_estimator_, X_train, y_train['class_pred'], cv=5, scoring = 'f1'))\n",
    "\n"
   ]
  },
  {
   "cell_type": "markdown",
   "metadata": {},
   "source": [
    "# QDA"
   ]
  },
  {
   "cell_type": "code",
   "execution_count": 26,
   "metadata": {},
   "outputs": [
    {
     "data": {
      "text/plain": [
       "array([[279691,  94162],\n",
       "       [   246,   3615]])"
      ]
     },
     "execution_count": 26,
     "metadata": {},
     "output_type": "execute_result"
    }
   ],
   "source": [
    "qda = QDA()\n",
    "\n",
    "# print(cross_val_score(qda, X_train, y_train['class_pred'], cv=5, scoring = 'f1'))\n",
    "\n",
    "qda.fit(X_train, y_train['class_pred'])\n",
    "qdapred = qda.predict(X_test)\n",
    "confusion_matrix(y_test['class_pred'], qdapred)\n"
   ]
  },
  {
   "cell_type": "code",
   "execution_count": null,
   "metadata": {},
   "outputs": [],
   "source": []
  }
 ],
 "metadata": {
  "kernelspec": {
   "display_name": "Python [default]",
   "language": "python",
   "name": "python2"
  },
  "language_info": {
   "codemirror_mode": {
    "name": "ipython",
    "version": 2
   },
   "file_extension": ".py",
   "mimetype": "text/x-python",
   "name": "python",
   "nbconvert_exporter": "python",
   "pygments_lexer": "ipython2",
   "version": "2.7.13"
  }
 },
 "nbformat": 4,
 "nbformat_minor": 2
}
